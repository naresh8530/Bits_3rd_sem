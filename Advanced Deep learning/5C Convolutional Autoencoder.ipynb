{
 "cells": [
  {
   "cell_type": "code",
   "execution_count": 1,
   "metadata": {},
   "outputs": [
    {
     "name": "stderr",
     "output_type": "stream",
     "text": [
      "Using TensorFlow backend.\n",
      "C:\\Anaconda3\\lib\\site-packages\\tensorflow\\python\\framework\\dtypes.py:516: FutureWarning: Passing (type, 1) or '1type' as a synonym of type is deprecated; in a future version of numpy, it will be understood as (type, (1,)) / '(1,)type'.\n",
      "  _np_qint8 = np.dtype([(\"qint8\", np.int8, 1)])\n",
      "C:\\Anaconda3\\lib\\site-packages\\tensorflow\\python\\framework\\dtypes.py:517: FutureWarning: Passing (type, 1) or '1type' as a synonym of type is deprecated; in a future version of numpy, it will be understood as (type, (1,)) / '(1,)type'.\n",
      "  _np_quint8 = np.dtype([(\"quint8\", np.uint8, 1)])\n",
      "C:\\Anaconda3\\lib\\site-packages\\tensorflow\\python\\framework\\dtypes.py:518: FutureWarning: Passing (type, 1) or '1type' as a synonym of type is deprecated; in a future version of numpy, it will be understood as (type, (1,)) / '(1,)type'.\n",
      "  _np_qint16 = np.dtype([(\"qint16\", np.int16, 1)])\n",
      "C:\\Anaconda3\\lib\\site-packages\\tensorflow\\python\\framework\\dtypes.py:519: FutureWarning: Passing (type, 1) or '1type' as a synonym of type is deprecated; in a future version of numpy, it will be understood as (type, (1,)) / '(1,)type'.\n",
      "  _np_quint16 = np.dtype([(\"quint16\", np.uint16, 1)])\n",
      "C:\\Anaconda3\\lib\\site-packages\\tensorflow\\python\\framework\\dtypes.py:520: FutureWarning: Passing (type, 1) or '1type' as a synonym of type is deprecated; in a future version of numpy, it will be understood as (type, (1,)) / '(1,)type'.\n",
      "  _np_qint32 = np.dtype([(\"qint32\", np.int32, 1)])\n",
      "C:\\Anaconda3\\lib\\site-packages\\tensorflow\\python\\framework\\dtypes.py:525: FutureWarning: Passing (type, 1) or '1type' as a synonym of type is deprecated; in a future version of numpy, it will be understood as (type, (1,)) / '(1,)type'.\n",
      "  np_resource = np.dtype([(\"resource\", np.ubyte, 1)])\n",
      "C:\\Anaconda3\\lib\\site-packages\\tensorboard\\compat\\tensorflow_stub\\dtypes.py:541: FutureWarning: Passing (type, 1) or '1type' as a synonym of type is deprecated; in a future version of numpy, it will be understood as (type, (1,)) / '(1,)type'.\n",
      "  _np_qint8 = np.dtype([(\"qint8\", np.int8, 1)])\n",
      "C:\\Anaconda3\\lib\\site-packages\\tensorboard\\compat\\tensorflow_stub\\dtypes.py:542: FutureWarning: Passing (type, 1) or '1type' as a synonym of type is deprecated; in a future version of numpy, it will be understood as (type, (1,)) / '(1,)type'.\n",
      "  _np_quint8 = np.dtype([(\"quint8\", np.uint8, 1)])\n",
      "C:\\Anaconda3\\lib\\site-packages\\tensorboard\\compat\\tensorflow_stub\\dtypes.py:543: FutureWarning: Passing (type, 1) or '1type' as a synonym of type is deprecated; in a future version of numpy, it will be understood as (type, (1,)) / '(1,)type'.\n",
      "  _np_qint16 = np.dtype([(\"qint16\", np.int16, 1)])\n",
      "C:\\Anaconda3\\lib\\site-packages\\tensorboard\\compat\\tensorflow_stub\\dtypes.py:544: FutureWarning: Passing (type, 1) or '1type' as a synonym of type is deprecated; in a future version of numpy, it will be understood as (type, (1,)) / '(1,)type'.\n",
      "  _np_quint16 = np.dtype([(\"quint16\", np.uint16, 1)])\n",
      "C:\\Anaconda3\\lib\\site-packages\\tensorboard\\compat\\tensorflow_stub\\dtypes.py:545: FutureWarning: Passing (type, 1) or '1type' as a synonym of type is deprecated; in a future version of numpy, it will be understood as (type, (1,)) / '(1,)type'.\n",
      "  _np_qint32 = np.dtype([(\"qint32\", np.int32, 1)])\n",
      "C:\\Anaconda3\\lib\\site-packages\\tensorboard\\compat\\tensorflow_stub\\dtypes.py:550: FutureWarning: Passing (type, 1) or '1type' as a synonym of type is deprecated; in a future version of numpy, it will be understood as (type, (1,)) / '(1,)type'.\n",
      "  np_resource = np.dtype([(\"resource\", np.ubyte, 1)])\n"
     ]
    },
    {
     "name": "stdout",
     "output_type": "stream",
     "text": [
      "(60000, 28, 28, 1)\n",
      "(10000, 28, 28, 1)\n"
     ]
    }
   ],
   "source": [
    "from keras.datasets import fashion_mnist\n",
    "import numpy as np\n",
    "(x_train, _), (x_test, _) = fashion_mnist.load_data()\n",
    "x_train = x_train.astype('float32') / 255.\n",
    "x_test = x_test.astype('float32') / 255.\n",
    "x_train = np.reshape(x_train, (len(x_train), 28, 28, 1))\n",
    "x_test = np.reshape(x_test, (len(x_test), 28, 28, 1))\n",
    "\n",
    "print(x_train.shape)\n",
    "print(x_test.shape)\n"
   ]
  },
  {
   "cell_type": "code",
   "execution_count": 2,
   "metadata": {},
   "outputs": [
    {
     "name": "stdout",
     "output_type": "stream",
     "text": [
      "WARNING:tensorflow:From C:\\Anaconda3\\lib\\site-packages\\keras\\backend\\tensorflow_backend.py:74: The name tf.get_default_graph is deprecated. Please use tf.compat.v1.get_default_graph instead.\n",
      "\n",
      "WARNING:tensorflow:From C:\\Anaconda3\\lib\\site-packages\\keras\\backend\\tensorflow_backend.py:517: The name tf.placeholder is deprecated. Please use tf.compat.v1.placeholder instead.\n",
      "\n",
      "WARNING:tensorflow:From C:\\Anaconda3\\lib\\site-packages\\keras\\backend\\tensorflow_backend.py:4138: The name tf.random_uniform is deprecated. Please use tf.random.uniform instead.\n",
      "\n",
      "WARNING:tensorflow:From C:\\Anaconda3\\lib\\site-packages\\keras\\backend\\tensorflow_backend.py:3976: The name tf.nn.max_pool is deprecated. Please use tf.nn.max_pool2d instead.\n",
      "\n",
      "WARNING:tensorflow:From C:\\Anaconda3\\lib\\site-packages\\keras\\backend\\tensorflow_backend.py:2018: The name tf.image.resize_nearest_neighbor is deprecated. Please use tf.compat.v1.image.resize_nearest_neighbor instead.\n",
      "\n",
      "WARNING:tensorflow:From C:\\Anaconda3\\lib\\site-packages\\keras\\optimizers.py:790: The name tf.train.Optimizer is deprecated. Please use tf.compat.v1.train.Optimizer instead.\n",
      "\n",
      "WARNING:tensorflow:From C:\\Anaconda3\\lib\\site-packages\\keras\\backend\\tensorflow_backend.py:3376: The name tf.log is deprecated. Please use tf.math.log instead.\n",
      "\n",
      "WARNING:tensorflow:From C:\\Anaconda3\\lib\\site-packages\\tensorflow\\python\\ops\\nn_impl.py:180: add_dispatch_support.<locals>.wrapper (from tensorflow.python.ops.array_ops) is deprecated and will be removed in a future version.\n",
      "Instructions for updating:\n",
      "Use tf.where in 2.0, which has the same broadcast rule as np.where\n",
      "_________________________________________________________________\n",
      "Layer (type)                 Output Shape              Param #   \n",
      "=================================================================\n",
      "input_1 (InputLayer)         (None, 28, 28, 1)         0         \n",
      "_________________________________________________________________\n",
      "conv2d_1 (Conv2D)            (None, 28, 28, 16)        160       \n",
      "_________________________________________________________________\n",
      "max_pooling2d_1 (MaxPooling2 (None, 14, 14, 16)        0         \n",
      "_________________________________________________________________\n",
      "conv2d_2 (Conv2D)            (None, 14, 14, 8)         1160      \n",
      "_________________________________________________________________\n",
      "max_pooling2d_2 (MaxPooling2 (None, 7, 7, 8)           0         \n",
      "_________________________________________________________________\n",
      "conv2d_3 (Conv2D)            (None, 7, 7, 8)           584       \n",
      "_________________________________________________________________\n",
      "max_pooling2d_3 (MaxPooling2 (None, 4, 4, 8)           0         \n",
      "_________________________________________________________________\n",
      "conv2d_4 (Conv2D)            (None, 4, 4, 8)           584       \n",
      "_________________________________________________________________\n",
      "up_sampling2d_1 (UpSampling2 (None, 8, 8, 8)           0         \n",
      "_________________________________________________________________\n",
      "conv2d_5 (Conv2D)            (None, 8, 8, 8)           584       \n",
      "_________________________________________________________________\n",
      "up_sampling2d_2 (UpSampling2 (None, 16, 16, 8)         0         \n",
      "_________________________________________________________________\n",
      "conv2d_6 (Conv2D)            (None, 14, 14, 16)        1168      \n",
      "_________________________________________________________________\n",
      "up_sampling2d_3 (UpSampling2 (None, 28, 28, 16)        0         \n",
      "_________________________________________________________________\n",
      "conv2d_7 (Conv2D)            (None, 28, 28, 1)         145       \n",
      "=================================================================\n",
      "Total params: 4,385\n",
      "Trainable params: 4,385\n",
      "Non-trainable params: 0\n",
      "_________________________________________________________________\n"
     ]
    }
   ],
   "source": [
    "import keras\n",
    "from keras import layers\n",
    "\n",
    "input_img = keras.Input(shape=(28, 28, 1))\n",
    "\n",
    "x = layers.Conv2D(16, (3, 3), activation='relu', padding='same')(input_img)\n",
    "x = layers.MaxPooling2D((2, 2), padding='same')(x)\n",
    "x = layers.Conv2D(8, (3, 3), activation='relu', padding='same')(x)\n",
    "x = layers.MaxPooling2D((2, 2), padding='same')(x)\n",
    "x = layers.Conv2D(8, (3, 3), activation='relu', padding='same')(x)\n",
    "encoded = layers.MaxPooling2D((2, 2), padding='same')(x)\n",
    "\n",
    "# at this point the representation is (4, 4, 8) i.e. 128-dimensional\n",
    "\n",
    "# 5,1\n",
    "# 3,2\n",
    "\n",
    "# 5,5,1,1\n",
    "# 5,5,1,1\n",
    "# 3,3,2,2\n",
    "# 3,3,2,2\n",
    "\n",
    "x = layers.Conv2D(8, (3, 3), activation='relu', padding='same')(encoded)\n",
    "x = layers.UpSampling2D((2, 2))(x)\n",
    "x = layers.Conv2D(8, (3, 3), activation='relu', padding='same')(x)\n",
    "x = layers.UpSampling2D((2, 2))(x)\n",
    "x = layers.Conv2D(16, (3, 3), activation='relu')(x)\n",
    "x = layers.UpSampling2D((2, 2))(x)\n",
    "decoded = layers.Conv2D(1, (3, 3), activation='sigmoid', padding='same')(x)\n",
    "\n",
    "#conv2Dtranspose\n",
    "\n",
    "autoencoder = keras.Model(input_img, decoded) \n",
    "\n",
    "autoencoder.compile(optimizer='adam', loss='binary_crossentropy')\n",
    "autoencoder.summary()"
   ]
  },
  {
   "cell_type": "code",
   "execution_count": 8,
   "metadata": {},
   "outputs": [
    {
     "name": "stdout",
     "output_type": "stream",
     "text": [
      "Train on 60000 samples, validate on 10000 samples\n",
      "Epoch 1/50\n",
      "60000/60000 [==============================] - 53s 888us/step - loss: 0.2802 - val_loss: 0.2823\n",
      "Epoch 2/50\n",
      "60000/60000 [==============================] - 56s 940us/step - loss: 0.2801 - val_loss: 0.2822\n",
      "Epoch 3/50\n",
      "60000/60000 [==============================] - 55s 921us/step - loss: 0.2800 - val_loss: 0.2822\n",
      "Epoch 4/50\n",
      "60000/60000 [==============================] - 52s 873us/step - loss: 0.2799 - val_loss: 0.2828\n",
      "Epoch 5/50\n",
      "60000/60000 [==============================] - 58s 970us/step - loss: 0.2799 - val_loss: 0.2822\n",
      "Epoch 6/50\n",
      "60000/60000 [==============================] - 52s 872us/step - loss: 0.2797 - val_loss: 0.2818\n",
      "Epoch 7/50\n",
      "60000/60000 [==============================] - 54s 901us/step - loss: 0.2797 - val_loss: 0.2818\n",
      "Epoch 8/50\n",
      "60000/60000 [==============================] - 59s 981us/step - loss: 0.2796 - val_loss: 0.2819\n",
      "Epoch 9/50\n",
      "60000/60000 [==============================] - 52s 870us/step - loss: 0.2795 - val_loss: 0.2815\n",
      "Epoch 10/50\n",
      "60000/60000 [==============================] - 52s 864us/step - loss: 0.2795 - val_loss: 0.2816\n",
      "Epoch 11/50\n",
      "60000/60000 [==============================] - 51s 850us/step - loss: 0.2793 - val_loss: 0.2819\n",
      "Epoch 12/50\n",
      "60000/60000 [==============================] - 55s 909us/step - loss: 0.2792 - val_loss: 0.2812\n",
      "Epoch 13/50\n",
      "60000/60000 [==============================] - 54s 906us/step - loss: 0.2793 - val_loss: 0.2812\n",
      "Epoch 14/50\n",
      "60000/60000 [==============================] - 54s 903us/step - loss: 0.2791 - val_loss: 0.2812\n",
      "Epoch 15/50\n",
      "60000/60000 [==============================] - 51s 858us/step - loss: 0.2790 - val_loss: 0.2815\n",
      "Epoch 16/50\n",
      "60000/60000 [==============================] - 52s 872us/step - loss: 0.2790 - val_loss: 0.2809\n",
      "Epoch 17/50\n",
      "60000/60000 [==============================] - 51s 850us/step - loss: 0.2789 - val_loss: 0.2812\n",
      "Epoch 18/50\n",
      "60000/60000 [==============================] - 52s 861us/step - loss: 0.2788 - val_loss: 0.2808\n",
      "Epoch 19/50\n",
      "60000/60000 [==============================] - 53s 882us/step - loss: 0.2788 - val_loss: 0.2813\n",
      "Epoch 20/50\n",
      "60000/60000 [==============================] - 53s 891us/step - loss: 0.2787 - val_loss: 0.2807\n",
      "Epoch 21/50\n",
      "60000/60000 [==============================] - 52s 872us/step - loss: 0.2786 - val_loss: 0.2806\n",
      "Epoch 22/50\n",
      "60000/60000 [==============================] - 55s 911us/step - loss: 0.2785 - val_loss: 0.2805\n",
      "Epoch 23/50\n",
      "60000/60000 [==============================] - 56s 927us/step - loss: 0.2785 - val_loss: 0.2808\n",
      "Epoch 24/50\n",
      "60000/60000 [==============================] - 54s 896us/step - loss: 0.2785 - val_loss: 0.2804\n",
      "Epoch 25/50\n",
      "60000/60000 [==============================] - 54s 907us/step - loss: 0.2783 - val_loss: 0.2803\n",
      "Epoch 26/50\n",
      "60000/60000 [==============================] - 53s 879us/step - loss: 0.2783 - val_loss: 0.2803\n",
      "Epoch 27/50\n",
      "60000/60000 [==============================] - 53s 879us/step - loss: 0.2783 - val_loss: 0.2812\n",
      "Epoch 28/50\n",
      "60000/60000 [==============================] - 55s 918us/step - loss: 0.2782 - val_loss: 0.2803\n",
      "Epoch 29/50\n",
      "60000/60000 [==============================] - 54s 897us/step - loss: 0.2780 - val_loss: 0.2812\n",
      "Epoch 30/50\n",
      "60000/60000 [==============================] - 53s 892us/step - loss: 0.2780 - val_loss: 0.2804\n",
      "Epoch 31/50\n",
      "60000/60000 [==============================] - 53s 887us/step - loss: 0.2779 - val_loss: 0.2799\n",
      "Epoch 32/50\n",
      "60000/60000 [==============================] - 54s 894us/step - loss: 0.2778 - val_loss: 0.2799\n",
      "Epoch 33/50\n",
      "60000/60000 [==============================] - 54s 892us/step - loss: 0.2777 - val_loss: 0.2806\n",
      "Epoch 34/50\n",
      "60000/60000 [==============================] - 52s 859us/step - loss: 0.2777 - val_loss: 0.2799\n",
      "Epoch 35/50\n",
      "60000/60000 [==============================] - 53s 883us/step - loss: 0.2776 - val_loss: 0.2796\n",
      "Epoch 36/50\n",
      "60000/60000 [==============================] - 54s 894us/step - loss: 0.2776 - val_loss: 0.2798\n",
      "Epoch 37/50\n",
      "60000/60000 [==============================] - 52s 867us/step - loss: 0.2776 - val_loss: 0.2795\n",
      "Epoch 38/50\n",
      "60000/60000 [==============================] - 52s 874us/step - loss: 0.2775 - val_loss: 0.2800\n",
      "Epoch 39/50\n",
      "60000/60000 [==============================] - 54s 895us/step - loss: 0.2775 - val_loss: 0.2795\n",
      "Epoch 40/50\n",
      "60000/60000 [==============================] - 61s 1ms/step - loss: 0.2774 - val_loss: 0.2795\n",
      "Epoch 41/50\n",
      "60000/60000 [==============================] - 60s 1ms/step - loss: 0.2774 - val_loss: 0.2793\n",
      "Epoch 42/50\n",
      "60000/60000 [==============================] - 58s 974us/step - loss: 0.2773 - val_loss: 0.2793\n",
      "Epoch 43/50\n",
      "60000/60000 [==============================] - 57s 953us/step - loss: 0.2772 - val_loss: 0.2793\n",
      "Epoch 44/50\n",
      "60000/60000 [==============================] - 59s 985us/step - loss: 0.2771 - val_loss: 0.2792\n",
      "Epoch 45/50\n",
      "60000/60000 [==============================] - 59s 985us/step - loss: 0.2771 - val_loss: 0.2792\n",
      "Epoch 46/50\n",
      "60000/60000 [==============================] - 56s 931us/step - loss: 0.2772 - val_loss: 0.2792\n",
      "Epoch 47/50\n",
      "60000/60000 [==============================] - 53s 888us/step - loss: 0.2771 - val_loss: 0.2794\n",
      "Epoch 48/50\n",
      "60000/60000 [==============================] - 54s 894us/step - loss: 0.2770 - val_loss: 0.2790\n",
      "Epoch 49/50\n",
      "60000/60000 [==============================] - 52s 858us/step - loss: 0.2769 - val_loss: 0.2789\n",
      "Epoch 50/50\n",
      "60000/60000 [==============================] - 52s 863us/step - loss: 0.2769 - val_loss: 0.2792\n"
     ]
    }
   ],
   "source": [
    "history = autoencoder.fit(x_train, x_train, epochs=50, batch_size=256, shuffle=True,\n",
    "                validation_data=(x_test, x_test))\n"
   ]
  },
  {
   "cell_type": "code",
   "execution_count": 9,
   "metadata": {},
   "outputs": [],
   "source": [
    "decoded_imgs = autoencoder.predict(x_test)"
   ]
  },
  {
   "cell_type": "code",
   "execution_count": 10,
   "metadata": {},
   "outputs": [
    {
     "name": "stdout",
     "output_type": "stream",
     "text": [
      "First row is orignal images\n"
     ]
    },
    {
     "data": {
      "image/png": "[encoded data removed]",
      "text/plain": [
       "<Figure size 1440x288 with 20 Axes>"
      ]
     },
     "metadata": {
      "needs_background": "light"
     },
     "output_type": "display_data"
    },
    {
     "name": "stdout",
     "output_type": "stream",
     "text": [
      "Second row is reconstrcuted images\n"
     ]
    }
   ],
   "source": [
    "import matplotlib.pyplot as plt\n",
    "\n",
    "print('First row is orignal images')\n",
    "n = 10  # How many digits we will display\n",
    "plt.figure(figsize=(20, 4))\n",
    "for i in range(n):\n",
    "    # Display original\n",
    "    ax = plt.subplot(2, n, i + 1)\n",
    "    plt.imshow(x_test[i].reshape(28, 28))\n",
    "    plt.gray()\n",
    "    ax.get_xaxis().set_visible(False)\n",
    "    ax.get_yaxis().set_visible(False)\n",
    "\n",
    "    # Display reconstruction\n",
    "    ax = plt.subplot(2, n, i + 1 + n)\n",
    "    plt.imshow(decoded_imgs[i].reshape(28, 28))\n",
    "    plt.gray()\n",
    "    ax.get_xaxis().set_visible(False)\n",
    "    ax.get_yaxis().set_visible(False)\n",
    "plt.show()\n",
    "print('Second row is reconstrcuted images')"
   ]
  }
 ],
 "metadata": {
  "kernelspec": {
   "display_name": "Python 3 (ipykernel)",
   "language": "python",
   "name": "python3"
  },
  "language_info": {
   "codemirror_mode": {
    "name": "ipython",
    "version": 3
   },
   "file_extension": ".py",
   "mimetype": "text/x-python",
   "name": "python",
   "nbconvert_exporter": "python",
   "pygments_lexer": "ipython3",
   "version": "3.8.10"
  }
 },
 "nbformat": 4,
 "nbformat_minor": 4
}
