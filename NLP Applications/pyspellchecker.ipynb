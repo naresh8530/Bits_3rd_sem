{
 "cells": [
  {
   "cell_type": "code",
   "execution_count": 1,
   "id": "af6c8b6b",
   "metadata": {},
   "outputs": [
    {
     "name": "stdout",
     "output_type": "stream",
     "text": [
      "Collecting pyspellchecker\n",
      "  Downloading pyspellchecker-0.7.2-py3-none-any.whl (3.4 MB)\n",
      "     ---------------------------------------- 0.0/3.4 MB ? eta -:--:--\n",
      "     - -------------------------------------- 0.1/3.4 MB 2.6 MB/s eta 0:00:02\n",
      "     -- ------------------------------------- 0.2/3.4 MB 2.0 MB/s eta 0:00:02\n",
      "     --- ------------------------------------ 0.3/3.4 MB 2.3 MB/s eta 0:00:02\n",
      "     ----- ---------------------------------- 0.5/3.4 MB 2.5 MB/s eta 0:00:02\n",
      "     ------ --------------------------------- 0.6/3.4 MB 2.5 MB/s eta 0:00:02\n",
      "     -------- ------------------------------- 0.7/3.4 MB 2.7 MB/s eta 0:00:02\n",
      "     --------- ------------------------------ 0.8/3.4 MB 2.5 MB/s eta 0:00:02\n",
      "     ---------- ----------------------------- 0.9/3.4 MB 2.5 MB/s eta 0:00:01\n",
      "     ------------ --------------------------- 1.1/3.4 MB 2.6 MB/s eta 0:00:01\n",
      "     -------------- ------------------------- 1.3/3.4 MB 2.9 MB/s eta 0:00:01\n",
      "     ---------------- ----------------------- 1.4/3.4 MB 2.9 MB/s eta 0:00:01\n",
      "     ------------------ --------------------- 1.6/3.4 MB 3.0 MB/s eta 0:00:01\n",
      "     -------------------- ------------------- 1.7/3.4 MB 3.0 MB/s eta 0:00:01\n",
      "     ---------------------- ----------------- 1.9/3.4 MB 3.1 MB/s eta 0:00:01\n",
      "     ------------------------ --------------- 2.1/3.4 MB 3.1 MB/s eta 0:00:01\n",
      "     -------------------------- ------------- 2.3/3.4 MB 3.2 MB/s eta 0:00:01\n",
      "     --------------------------- ------------ 2.4/3.4 MB 3.2 MB/s eta 0:00:01\n",
      "     ------------------------------ --------- 2.6/3.4 MB 3.2 MB/s eta 0:00:01\n",
      "     -------------------------------- ------- 2.8/3.4 MB 3.3 MB/s eta 0:00:01\n",
      "     ---------------------------------- ----- 2.9/3.4 MB 3.4 MB/s eta 0:00:01\n",
      "     ---------------------------------- ----- 2.9/3.4 MB 3.4 MB/s eta 0:00:01\n",
      "     ---------------------------------- ----- 2.9/3.4 MB 3.4 MB/s eta 0:00:01\n",
      "     -------------------------------------- - 3.3/3.4 MB 3.3 MB/s eta 0:00:01\n",
      "     ---------------------------------------  3.4/3.4 MB 3.3 MB/s eta 0:00:01\n",
      "     ---------------------------------------  3.4/3.4 MB 3.3 MB/s eta 0:00:01\n",
      "     ---------------------------------------- 3.4/3.4 MB 3.1 MB/s eta 0:00:00\n",
      "Installing collected packages: pyspellchecker\n",
      "Successfully installed pyspellchecker-0.7.2\n"
     ]
    }
   ],
   "source": [
    "!pip install pyspellchecker"
   ]
  },
  {
   "cell_type": "code",
   "execution_count": 1,
   "id": "d1f96b47",
   "metadata": {},
   "outputs": [
    {
     "name": "stdout",
     "output_type": "stream",
     "text": [
      "write\n",
      "{'wrote', 'wite', 'write', 'wre'}\n",
      "computer\n",
      "{'computer', 'impute', 'compute'}\n",
      "water\n",
      "{'wat', 'water', 'war', 'wart', 'watt'}\n"
     ]
    }
   ],
   "source": [
    "from spellchecker import SpellChecker\n",
    " \n",
    "spell = SpellChecker()\n",
    " \n",
    "# find those words that may be misspelled\n",
    "misspelled = spell.unknown([\"cmputr\", \"watr\", \"study\", \"wrte\"])\n",
    " \n",
    "for word in misspelled:\n",
    "    # Get the one `most likely` answer\n",
    "    print(spell.correction(word))\n",
    " \n",
    "    # Get a list of `likely` options\n",
    "    print(spell.candidates(word))"
   ]
  }
 ],
 "metadata": {
  "kernelspec": {
   "display_name": "Python 3 (ipykernel)",
   "language": "python",
   "name": "python3"
  },
  "language_info": {
   "codemirror_mode": {
    "name": "ipython",
    "version": 3
   },
   "file_extension": ".py",
   "mimetype": "text/x-python",
   "name": "python",
   "nbconvert_exporter": "python",
   "pygments_lexer": "ipython3",
   "version": "3.11.4"
  }
 },
 "nbformat": 4,
 "nbformat_minor": 5
}
