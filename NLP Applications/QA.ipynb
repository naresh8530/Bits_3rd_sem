{
 "cells": [
  {
   "cell_type": "code",
   "execution_count": 20,
   "metadata": {},
   "outputs": [],
   "source": [
    "import pandas as pd\n",
    "import numpy as np\n",
    "import string\n",
    "from nltk.tokenize import word_tokenize\n",
    "from nltk.stem import WordNetLemmatizer\n",
    "from nltk.corpus import stopwords\n",
    "from nltk.corpus import wordnet\n",
    "from nltk import pos_tag\n",
    "from sklearn.feature_extraction.text import TfidfVectorizer\n",
    "from sklearn.metrics.pairwise import cosine_similarity"
   ]
  },
  {
   "cell_type": "code",
   "execution_count": 21,
   "metadata": {},
   "outputs": [],
   "source": [
    "df1 = pd.read_csv('S08_question_answer_pairs.txt', sep='\\t')\n",
    "df2 = pd.read_csv('S09_question_answer_pairs.txt', sep='\\t')\n",
    "df3 = pd.read_csv('S10_question_answer_pairs.txt', sep='\\t', encoding = 'ISO-8859-1')"
   ]
  },
  {
   "cell_type": "code",
   "execution_count": 22,
   "metadata": {},
   "outputs": [
    {
     "data": {
      "text/html": [
       "<div>\n",
       "<style scoped>\n",
       "    .dataframe tbody tr th:only-of-type {\n",
       "        vertical-align: middle;\n",
       "    }\n",
       "\n",
       "    .dataframe tbody tr th {\n",
       "        vertical-align: top;\n",
       "    }\n",
       "\n",
       "    .dataframe thead th {\n",
       "        text-align: right;\n",
       "    }\n",
       "</style>\n",
       "<table border=\"1\" class=\"dataframe\">\n",
       "  <thead>\n",
       "    <tr style=\"text-align: right;\">\n",
       "      <th></th>\n",
       "      <th>ArticleTitle</th>\n",
       "      <th>Question</th>\n",
       "      <th>Answer</th>\n",
       "      <th>DifficultyFromQuestioner</th>\n",
       "      <th>DifficultyFromAnswerer</th>\n",
       "      <th>ArticleFile</th>\n",
       "    </tr>\n",
       "  </thead>\n",
       "  <tbody>\n",
       "    <tr>\n",
       "      <th>0</th>\n",
       "      <td>Abraham_Lincoln</td>\n",
       "      <td>Was Abraham Lincoln the sixteenth President of...</td>\n",
       "      <td>yes</td>\n",
       "      <td>easy</td>\n",
       "      <td>easy</td>\n",
       "      <td>S08_set3_a4</td>\n",
       "    </tr>\n",
       "    <tr>\n",
       "      <th>1</th>\n",
       "      <td>Abraham_Lincoln</td>\n",
       "      <td>Was Abraham Lincoln the sixteenth President of...</td>\n",
       "      <td>Yes.</td>\n",
       "      <td>easy</td>\n",
       "      <td>easy</td>\n",
       "      <td>S08_set3_a4</td>\n",
       "    </tr>\n",
       "    <tr>\n",
       "      <th>2</th>\n",
       "      <td>Abraham_Lincoln</td>\n",
       "      <td>Did Lincoln sign the National Banking Act of 1...</td>\n",
       "      <td>yes</td>\n",
       "      <td>easy</td>\n",
       "      <td>medium</td>\n",
       "      <td>S08_set3_a4</td>\n",
       "    </tr>\n",
       "    <tr>\n",
       "      <th>3</th>\n",
       "      <td>Abraham_Lincoln</td>\n",
       "      <td>Did Lincoln sign the National Banking Act of 1...</td>\n",
       "      <td>Yes.</td>\n",
       "      <td>easy</td>\n",
       "      <td>easy</td>\n",
       "      <td>S08_set3_a4</td>\n",
       "    </tr>\n",
       "    <tr>\n",
       "      <th>4</th>\n",
       "      <td>Abraham_Lincoln</td>\n",
       "      <td>Did his mother die of pneumonia?</td>\n",
       "      <td>no</td>\n",
       "      <td>easy</td>\n",
       "      <td>medium</td>\n",
       "      <td>S08_set3_a4</td>\n",
       "    </tr>\n",
       "    <tr>\n",
       "      <th>5</th>\n",
       "      <td>Abraham_Lincoln</td>\n",
       "      <td>Did his mother die of pneumonia?</td>\n",
       "      <td>No.</td>\n",
       "      <td>easy</td>\n",
       "      <td>easy</td>\n",
       "      <td>S08_set3_a4</td>\n",
       "    </tr>\n",
       "    <tr>\n",
       "      <th>6</th>\n",
       "      <td>Abraham_Lincoln</td>\n",
       "      <td>How many long was Lincoln's formal education?</td>\n",
       "      <td>18 months</td>\n",
       "      <td>medium</td>\n",
       "      <td>easy</td>\n",
       "      <td>S08_set3_a4</td>\n",
       "    </tr>\n",
       "    <tr>\n",
       "      <th>7</th>\n",
       "      <td>Abraham_Lincoln</td>\n",
       "      <td>How many long was Lincoln's formal education?</td>\n",
       "      <td>18 months.</td>\n",
       "      <td>medium</td>\n",
       "      <td>medium</td>\n",
       "      <td>S08_set3_a4</td>\n",
       "    </tr>\n",
       "    <tr>\n",
       "      <th>8</th>\n",
       "      <td>Abraham_Lincoln</td>\n",
       "      <td>When did Lincoln begin his political career?</td>\n",
       "      <td>1832</td>\n",
       "      <td>medium</td>\n",
       "      <td>easy</td>\n",
       "      <td>S08_set3_a4</td>\n",
       "    </tr>\n",
       "    <tr>\n",
       "      <th>9</th>\n",
       "      <td>Abraham_Lincoln</td>\n",
       "      <td>When did Lincoln begin his political career?</td>\n",
       "      <td>1832.</td>\n",
       "      <td>medium</td>\n",
       "      <td>medium</td>\n",
       "      <td>S08_set3_a4</td>\n",
       "    </tr>\n",
       "    <tr>\n",
       "      <th>10</th>\n",
       "      <td>Abraham_Lincoln</td>\n",
       "      <td>What did The Legal Tender Act of 1862 establish?</td>\n",
       "      <td>the United States Note, the first paper curren...</td>\n",
       "      <td>medium</td>\n",
       "      <td>easy</td>\n",
       "      <td>S08_set3_a4</td>\n",
       "    </tr>\n",
       "    <tr>\n",
       "      <th>11</th>\n",
       "      <td>Abraham_Lincoln</td>\n",
       "      <td>What did The Legal Tender Act of 1862 establish?</td>\n",
       "      <td>The United States Note, the first paper curren...</td>\n",
       "      <td>medium</td>\n",
       "      <td>medium</td>\n",
       "      <td>S08_set3_a4</td>\n",
       "    </tr>\n",
       "    <tr>\n",
       "      <th>12</th>\n",
       "      <td>Abraham_Lincoln</td>\n",
       "      <td>Who suggested Lincoln grow a beard?</td>\n",
       "      <td>11-year-old Grace Bedell</td>\n",
       "      <td>hard</td>\n",
       "      <td>medium</td>\n",
       "      <td>S08_set3_a4</td>\n",
       "    </tr>\n",
       "    <tr>\n",
       "      <th>13</th>\n",
       "      <td>Abraham_Lincoln</td>\n",
       "      <td>Who suggested Lincoln grow a beard?</td>\n",
       "      <td>Grace Bedell.</td>\n",
       "      <td>hard</td>\n",
       "      <td>medium</td>\n",
       "      <td>S08_set3_a4</td>\n",
       "    </tr>\n",
       "    <tr>\n",
       "      <th>14</th>\n",
       "      <td>Abraham_Lincoln</td>\n",
       "      <td>When did the Gettysburg address argue that Ame...</td>\n",
       "      <td>1776</td>\n",
       "      <td>hard</td>\n",
       "      <td>hard</td>\n",
       "      <td>S08_set3_a4</td>\n",
       "    </tr>\n",
       "    <tr>\n",
       "      <th>15</th>\n",
       "      <td>Abraham_Lincoln</td>\n",
       "      <td>When did the Gettysburg address argue that Ame...</td>\n",
       "      <td>1776.</td>\n",
       "      <td>hard</td>\n",
       "      <td>hard</td>\n",
       "      <td>S08_set3_a4</td>\n",
       "    </tr>\n",
       "    <tr>\n",
       "      <th>16</th>\n",
       "      <td>Abraham_Lincoln</td>\n",
       "      <td>Did Lincoln beat John C. Breckinridge in the 1...</td>\n",
       "      <td>yes</td>\n",
       "      <td>hard</td>\n",
       "      <td>medium</td>\n",
       "      <td>S08_set3_a4</td>\n",
       "    </tr>\n",
       "    <tr>\n",
       "      <th>17</th>\n",
       "      <td>Abraham_Lincoln</td>\n",
       "      <td>Did Lincoln beat John C. Breckinridge in the 1...</td>\n",
       "      <td>Yes.</td>\n",
       "      <td>hard</td>\n",
       "      <td>hard</td>\n",
       "      <td>S08_set3_a4</td>\n",
       "    </tr>\n",
       "    <tr>\n",
       "      <th>18</th>\n",
       "      <td>Abraham_Lincoln</td>\n",
       "      <td>Was Abraham Lincoln the first President of the...</td>\n",
       "      <td>No</td>\n",
       "      <td>easy</td>\n",
       "      <td>easy</td>\n",
       "      <td>S08_set3_a4</td>\n",
       "    </tr>\n",
       "    <tr>\n",
       "      <th>19</th>\n",
       "      <td>Abraham_Lincoln</td>\n",
       "      <td>Was Abraham Lincoln the first President of the...</td>\n",
       "      <td>No</td>\n",
       "      <td>easy</td>\n",
       "      <td>medium</td>\n",
       "      <td>S08_set3_a4</td>\n",
       "    </tr>\n",
       "  </tbody>\n",
       "</table>\n",
       "</div>"
      ],
      "text/plain": [
       "       ArticleTitle                                           Question  \\\n",
       "0   Abraham_Lincoln  Was Abraham Lincoln the sixteenth President of...   \n",
       "1   Abraham_Lincoln  Was Abraham Lincoln the sixteenth President of...   \n",
       "2   Abraham_Lincoln  Did Lincoln sign the National Banking Act of 1...   \n",
       "3   Abraham_Lincoln  Did Lincoln sign the National Banking Act of 1...   \n",
       "4   Abraham_Lincoln                   Did his mother die of pneumonia?   \n",
       "5   Abraham_Lincoln                   Did his mother die of pneumonia?   \n",
       "6   Abraham_Lincoln      How many long was Lincoln's formal education?   \n",
       "7   Abraham_Lincoln      How many long was Lincoln's formal education?   \n",
       "8   Abraham_Lincoln       When did Lincoln begin his political career?   \n",
       "9   Abraham_Lincoln       When did Lincoln begin his political career?   \n",
       "10  Abraham_Lincoln   What did The Legal Tender Act of 1862 establish?   \n",
       "11  Abraham_Lincoln   What did The Legal Tender Act of 1862 establish?   \n",
       "12  Abraham_Lincoln                Who suggested Lincoln grow a beard?   \n",
       "13  Abraham_Lincoln                Who suggested Lincoln grow a beard?   \n",
       "14  Abraham_Lincoln  When did the Gettysburg address argue that Ame...   \n",
       "15  Abraham_Lincoln  When did the Gettysburg address argue that Ame...   \n",
       "16  Abraham_Lincoln  Did Lincoln beat John C. Breckinridge in the 1...   \n",
       "17  Abraham_Lincoln  Did Lincoln beat John C. Breckinridge in the 1...   \n",
       "18  Abraham_Lincoln  Was Abraham Lincoln the first President of the...   \n",
       "19  Abraham_Lincoln  Was Abraham Lincoln the first President of the...   \n",
       "\n",
       "                                               Answer  \\\n",
       "0                                                 yes   \n",
       "1                                                Yes.   \n",
       "2                                                 yes   \n",
       "3                                                Yes.   \n",
       "4                                                  no   \n",
       "5                                                 No.   \n",
       "6                                           18 months   \n",
       "7                                          18 months.   \n",
       "8                                                1832   \n",
       "9                                               1832.   \n",
       "10  the United States Note, the first paper curren...   \n",
       "11  The United States Note, the first paper curren...   \n",
       "12                           11-year-old Grace Bedell   \n",
       "13                                      Grace Bedell.   \n",
       "14                                               1776   \n",
       "15                                              1776.   \n",
       "16                                                yes   \n",
       "17                                               Yes.   \n",
       "18                                                 No   \n",
       "19                                                 No   \n",
       "\n",
       "   DifficultyFromQuestioner DifficultyFromAnswerer  ArticleFile  \n",
       "0                      easy                   easy  S08_set3_a4  \n",
       "1                      easy                   easy  S08_set3_a4  \n",
       "2                      easy                 medium  S08_set3_a4  \n",
       "3                      easy                   easy  S08_set3_a4  \n",
       "4                      easy                 medium  S08_set3_a4  \n",
       "5                      easy                   easy  S08_set3_a4  \n",
       "6                    medium                   easy  S08_set3_a4  \n",
       "7                    medium                 medium  S08_set3_a4  \n",
       "8                    medium                   easy  S08_set3_a4  \n",
       "9                    medium                 medium  S08_set3_a4  \n",
       "10                   medium                   easy  S08_set3_a4  \n",
       "11                   medium                 medium  S08_set3_a4  \n",
       "12                     hard                 medium  S08_set3_a4  \n",
       "13                     hard                 medium  S08_set3_a4  \n",
       "14                     hard                   hard  S08_set3_a4  \n",
       "15                     hard                   hard  S08_set3_a4  \n",
       "16                     hard                 medium  S08_set3_a4  \n",
       "17                     hard                   hard  S08_set3_a4  \n",
       "18                     easy                   easy  S08_set3_a4  \n",
       "19                     easy                 medium  S08_set3_a4  "
      ]
     },
     "execution_count": 22,
     "metadata": {},
     "output_type": "execute_result"
    }
   ],
   "source": [
    "df1.head(20)"
   ]
  },
  {
   "cell_type": "code",
   "execution_count": 23,
   "metadata": {},
   "outputs": [
    {
     "name": "stdout",
     "output_type": "stream",
     "text": [
      "<class 'pandas.core.frame.DataFrame'>\n",
      "Int64Index: 3998 entries, 0 to 1457\n",
      "Data columns (total 6 columns):\n",
      " #   Column                    Non-Null Count  Dtype \n",
      "---  ------                    --------------  ----- \n",
      " 0   ArticleTitle              3998 non-null   object\n",
      " 1   Question                  3961 non-null   object\n",
      " 2   Answer                    3422 non-null   object\n",
      " 3   DifficultyFromQuestioner  3043 non-null   object\n",
      " 4   DifficultyFromAnswerer    3418 non-null   object\n",
      " 5   ArticleFile               3996 non-null   object\n",
      "dtypes: object(6)\n",
      "memory usage: 218.6+ KB\n"
     ]
    }
   ],
   "source": [
    "all_data = df1.append([df2, df3])\n",
    "all_data.info()"
   ]
  },
  {
   "cell_type": "code",
   "execution_count": 24,
   "metadata": {},
   "outputs": [
    {
     "data": {
      "text/plain": [
       "(3998, 2)"
      ]
     },
     "execution_count": 24,
     "metadata": {},
     "output_type": "execute_result"
    }
   ],
   "source": [
    "all_data['Question'] = all_data['ArticleTitle'].str.replace('_', ' ') + ' ' + all_data['Question']\n",
    "all_data = all_data[['Question', 'Answer']]\n",
    "all_data.shape"
   ]
  },
  {
   "cell_type": "code",
   "execution_count": 25,
   "metadata": {},
   "outputs": [
    {
     "data": {
      "text/html": [
       "<div>\n",
       "<style scoped>\n",
       "    .dataframe tbody tr th:only-of-type {\n",
       "        vertical-align: middle;\n",
       "    }\n",
       "\n",
       "    .dataframe tbody tr th {\n",
       "        vertical-align: top;\n",
       "    }\n",
       "\n",
       "    .dataframe thead th {\n",
       "        text-align: right;\n",
       "    }\n",
       "</style>\n",
       "<table border=\"1\" class=\"dataframe\">\n",
       "  <thead>\n",
       "    <tr style=\"text-align: right;\">\n",
       "      <th></th>\n",
       "      <th>Question</th>\n",
       "      <th>Answer</th>\n",
       "    </tr>\n",
       "  </thead>\n",
       "  <tbody>\n",
       "    <tr>\n",
       "      <th>0</th>\n",
       "      <td>Abraham Lincoln Was Abraham Lincoln the sixtee...</td>\n",
       "      <td>yes</td>\n",
       "    </tr>\n",
       "    <tr>\n",
       "      <th>1</th>\n",
       "      <td>Abraham Lincoln Was Abraham Lincoln the sixtee...</td>\n",
       "      <td>Yes.</td>\n",
       "    </tr>\n",
       "    <tr>\n",
       "      <th>2</th>\n",
       "      <td>Abraham Lincoln Did Lincoln sign the National ...</td>\n",
       "      <td>yes</td>\n",
       "    </tr>\n",
       "    <tr>\n",
       "      <th>3</th>\n",
       "      <td>Abraham Lincoln Did Lincoln sign the National ...</td>\n",
       "      <td>Yes.</td>\n",
       "    </tr>\n",
       "    <tr>\n",
       "      <th>4</th>\n",
       "      <td>Abraham Lincoln Did his mother die of pneumonia?</td>\n",
       "      <td>no</td>\n",
       "    </tr>\n",
       "    <tr>\n",
       "      <th>5</th>\n",
       "      <td>Abraham Lincoln Did his mother die of pneumonia?</td>\n",
       "      <td>No.</td>\n",
       "    </tr>\n",
       "    <tr>\n",
       "      <th>6</th>\n",
       "      <td>Abraham Lincoln How many long was Lincoln's fo...</td>\n",
       "      <td>18 months</td>\n",
       "    </tr>\n",
       "    <tr>\n",
       "      <th>7</th>\n",
       "      <td>Abraham Lincoln How many long was Lincoln's fo...</td>\n",
       "      <td>18 months.</td>\n",
       "    </tr>\n",
       "    <tr>\n",
       "      <th>8</th>\n",
       "      <td>Abraham Lincoln When did Lincoln begin his pol...</td>\n",
       "      <td>1832</td>\n",
       "    </tr>\n",
       "    <tr>\n",
       "      <th>9</th>\n",
       "      <td>Abraham Lincoln When did Lincoln begin his pol...</td>\n",
       "      <td>1832.</td>\n",
       "    </tr>\n",
       "  </tbody>\n",
       "</table>\n",
       "</div>"
      ],
      "text/plain": [
       "                                            Question      Answer\n",
       "0  Abraham Lincoln Was Abraham Lincoln the sixtee...         yes\n",
       "1  Abraham Lincoln Was Abraham Lincoln the sixtee...        Yes.\n",
       "2  Abraham Lincoln Did Lincoln sign the National ...         yes\n",
       "3  Abraham Lincoln Did Lincoln sign the National ...        Yes.\n",
       "4   Abraham Lincoln Did his mother die of pneumonia?          no\n",
       "5   Abraham Lincoln Did his mother die of pneumonia?         No.\n",
       "6  Abraham Lincoln How many long was Lincoln's fo...   18 months\n",
       "7  Abraham Lincoln How many long was Lincoln's fo...  18 months.\n",
       "8  Abraham Lincoln When did Lincoln begin his pol...        1832\n",
       "9  Abraham Lincoln When did Lincoln begin his pol...       1832."
      ]
     },
     "execution_count": 25,
     "metadata": {},
     "output_type": "execute_result"
    }
   ],
   "source": [
    "all_data.head(10)"
   ]
  },
  {
   "cell_type": "code",
   "execution_count": 26,
   "metadata": {},
   "outputs": [
    {
     "data": {
      "text/html": [
       "<div>\n",
       "<style scoped>\n",
       "    .dataframe tbody tr th:only-of-type {\n",
       "        vertical-align: middle;\n",
       "    }\n",
       "\n",
       "    .dataframe tbody tr th {\n",
       "        vertical-align: top;\n",
       "    }\n",
       "\n",
       "    .dataframe thead th {\n",
       "        text-align: right;\n",
       "    }\n",
       "</style>\n",
       "<table border=\"1\" class=\"dataframe\">\n",
       "  <thead>\n",
       "    <tr style=\"text-align: right;\">\n",
       "      <th></th>\n",
       "      <th>Question</th>\n",
       "      <th>Answer</th>\n",
       "    </tr>\n",
       "  </thead>\n",
       "  <tbody>\n",
       "    <tr>\n",
       "      <th>0</th>\n",
       "      <td>Abraham Lincoln Was Abraham Lincoln the sixtee...</td>\n",
       "      <td>yes</td>\n",
       "    </tr>\n",
       "    <tr>\n",
       "      <th>2</th>\n",
       "      <td>Abraham Lincoln Did Lincoln sign the National ...</td>\n",
       "      <td>yes</td>\n",
       "    </tr>\n",
       "    <tr>\n",
       "      <th>4</th>\n",
       "      <td>Abraham Lincoln Did his mother die of pneumonia?</td>\n",
       "      <td>no</td>\n",
       "    </tr>\n",
       "    <tr>\n",
       "      <th>6</th>\n",
       "      <td>Abraham Lincoln How many long was Lincoln's fo...</td>\n",
       "      <td>18 months</td>\n",
       "    </tr>\n",
       "    <tr>\n",
       "      <th>8</th>\n",
       "      <td>Abraham Lincoln When did Lincoln begin his pol...</td>\n",
       "      <td>1832</td>\n",
       "    </tr>\n",
       "    <tr>\n",
       "      <th>10</th>\n",
       "      <td>Abraham Lincoln What did The Legal Tender Act ...</td>\n",
       "      <td>the United States Note, the first paper curren...</td>\n",
       "    </tr>\n",
       "    <tr>\n",
       "      <th>12</th>\n",
       "      <td>Abraham Lincoln Who suggested Lincoln grow a b...</td>\n",
       "      <td>11-year-old Grace Bedell</td>\n",
       "    </tr>\n",
       "    <tr>\n",
       "      <th>14</th>\n",
       "      <td>Abraham Lincoln When did the Gettysburg addres...</td>\n",
       "      <td>1776</td>\n",
       "    </tr>\n",
       "    <tr>\n",
       "      <th>16</th>\n",
       "      <td>Abraham Lincoln Did Lincoln beat John C. Breck...</td>\n",
       "      <td>yes</td>\n",
       "    </tr>\n",
       "    <tr>\n",
       "      <th>18</th>\n",
       "      <td>Abraham Lincoln Was Abraham Lincoln the first ...</td>\n",
       "      <td>No</td>\n",
       "    </tr>\n",
       "  </tbody>\n",
       "</table>\n",
       "</div>"
      ],
      "text/plain": [
       "                                             Question  \\\n",
       "0   Abraham Lincoln Was Abraham Lincoln the sixtee...   \n",
       "2   Abraham Lincoln Did Lincoln sign the National ...   \n",
       "4    Abraham Lincoln Did his mother die of pneumonia?   \n",
       "6   Abraham Lincoln How many long was Lincoln's fo...   \n",
       "8   Abraham Lincoln When did Lincoln begin his pol...   \n",
       "10  Abraham Lincoln What did The Legal Tender Act ...   \n",
       "12  Abraham Lincoln Who suggested Lincoln grow a b...   \n",
       "14  Abraham Lincoln When did the Gettysburg addres...   \n",
       "16  Abraham Lincoln Did Lincoln beat John C. Breck...   \n",
       "18  Abraham Lincoln Was Abraham Lincoln the first ...   \n",
       "\n",
       "                                               Answer  \n",
       "0                                                 yes  \n",
       "2                                                 yes  \n",
       "4                                                  no  \n",
       "6                                           18 months  \n",
       "8                                                1832  \n",
       "10  the United States Note, the first paper curren...  \n",
       "12                           11-year-old Grace Bedell  \n",
       "14                                               1776  \n",
       "16                                                yes  \n",
       "18                                                 No  "
      ]
     },
     "execution_count": 26,
     "metadata": {},
     "output_type": "execute_result"
    }
   ],
   "source": [
    "all_data = all_data.drop_duplicates(subset='Question')\n",
    "all_data.head(10)"
   ]
  },
  {
   "cell_type": "code",
   "execution_count": 27,
   "metadata": {},
   "outputs": [
    {
     "data": {
      "text/plain": [
       "(2461, 2)"
      ]
     },
     "execution_count": 27,
     "metadata": {},
     "output_type": "execute_result"
    }
   ],
   "source": [
    "all_data.shape"
   ]
  },
  {
   "cell_type": "code",
   "execution_count": 28,
   "metadata": {},
   "outputs": [
    {
     "data": {
      "text/plain": [
       "(2188, 2)"
      ]
     },
     "execution_count": 28,
     "metadata": {},
     "output_type": "execute_result"
    }
   ],
   "source": [
    "all_data = all_data.dropna() ##Remove rows with missing values\n",
    "all_data.shape"
   ]
  },
  {
   "cell_type": "code",
   "execution_count": 29,
   "metadata": {},
   "outputs": [],
   "source": [
    "stopwords_list = stopwords.words('english')\n",
    "\n",
    "lemmatizer = WordNetLemmatizer()"
   ]
  },
  {
   "cell_type": "code",
   "execution_count": 30,
   "metadata": {},
   "outputs": [],
   "source": [
    "def my_tokenizer(doc):\n",
    "    words = word_tokenize(doc)\n",
    "    \n",
    "    pos_tags = pos_tag(words)\n",
    "    \n",
    "    non_stopwords = [w for w in pos_tags if not w[0].lower() in stopwords_list]\n",
    "    \n",
    "    non_punctuation = [w for w in non_stopwords if not w[0] in string.punctuation]\n",
    "    lemmas = []\n",
    "    for w in non_punctuation:\n",
    "        if w[1].startswith('J'):\n",
    "            pos = wordnet.ADJ\n",
    "        elif w[1].startswith('V'):\n",
    "            pos = wordnet.VERB\n",
    "        elif w[1].startswith('N'):\n",
    "            pos = wordnet.NOUN\n",
    "        elif w[1].startswith('R'):\n",
    "            pos = wordnet.ADV\n",
    "        else:\n",
    "            pos = wordnet.NOUN\n",
    "        \n",
    "        lemmas.append(lemmatizer.lemmatize(w[0], pos))\n",
    "\n",
    "    return lemmas"
   ]
  },
  {
   "cell_type": "code",
   "execution_count": 31,
   "metadata": {},
   "outputs": [
    {
     "name": "stdout",
     "output_type": "stream",
     "text": [
      "(2188, 3550)\n"
     ]
    }
   ],
   "source": [
    "tfidf_vectorizer = TfidfVectorizer(tokenizer=my_tokenizer)\n",
    "#The tuple represents: (document_id, token_id)\n",
    "#The value following the tuple represents the tf-idf score of a given token in a given document\n",
    "tfidf_matrix = tfidf_vectorizer.fit_transform(tuple(all_data['Question']))\n",
    "print(tfidf_matrix.shape)"
   ]
  },
  {
   "cell_type": "code",
   "execution_count": 32,
   "metadata": {},
   "outputs": [],
   "source": [
    "def ask_question(question):\n",
    "    query_vect = tfidf_vectorizer.transform([question])\n",
    "    similarity = cosine_similarity(query_vect, tfidf_matrix)\n",
    "    max_similarity = np.argmax(similarity, axis=None)\n",
    "    print('Your question:', question)\n",
    "    print('Closest question found:', all_data.iloc[max_similarity]['Question'])\n",
    "    print('Similarity: {:.2%}'.format(similarity[0, max_similarity]))\n",
    "    print('Answer:', all_data.iloc[max_similarity]['Answer'])\n"
   ]
  },
  {
   "cell_type": "code",
   "execution_count": 14,
   "metadata": {},
   "outputs": [
    {
     "name": "stdout",
     "output_type": "stream",
     "text": [
      "Your question: When Abraham Lincoln started his political career\n",
      "Closest question found: Abraham Lincoln Did Lincoln start his political career in 1832?\n",
      "Similarity: 88.14%\n",
      "Answer: Yes\n"
     ]
    }
   ],
   "source": [
    "ask_question('When Abraham Lincoln started his political career')"
   ]
  },
  {
   "cell_type": "code",
   "execution_count": 15,
   "metadata": {},
   "outputs": [
    {
     "name": "stdout",
     "output_type": "stream",
     "text": [
      "Your question: Where was Nicola Tesla born\n",
      "Closest question found: Abraham Lincoln Which county was Lincoln born in?\n",
      "Similarity: 40.56%\n",
      "Answer: Hardin County\n"
     ]
    }
   ],
   "source": [
    "ask_question('Where was Nicola Tesla born')"
   ]
  },
  {
   "cell_type": "code",
   "execution_count": 16,
   "metadata": {},
   "outputs": [
    {
     "name": "stdout",
     "output_type": "stream",
     "text": [
      "Your question: Can whales fly\n",
      "Closest question found: Otter Do sea otters have a layer of fat like whales?\n",
      "Similarity: 32.08%\n",
      "Answer: No\n"
     ]
    }
   ],
   "source": [
    "ask_question('Can whales fly')"
   ]
  },
  {
   "cell_type": "code",
   "execution_count": 17,
   "metadata": {},
   "outputs": [
    {
     "name": "stdout",
     "output_type": "stream",
     "text": [
      "Your question: Who was the third president of the United States\n",
      "Closest question found: James Monroe Was James Monroe President of the United States?\n",
      "Similarity: 45.33%\n",
      "Answer: yes\n"
     ]
    }
   ],
   "source": [
    "ask_question('Who was the third president of the United States') #Thomas Jafferson was 3rd president"
   ]
  },
  {
   "cell_type": "code",
   "execution_count": 18,
   "metadata": {},
   "outputs": [
    {
     "name": "stdout",
     "output_type": "stream",
     "text": [
      "Your question: How high are crime rates in Brazil\n",
      "Closest question found: Saint Petersburg When did the crime level become higher?\n",
      "Similarity: 51.49%\n",
      "Answer: After the October revolution.\n"
     ]
    }
   ],
   "source": [
    "ask_question('How high are crime rates in Brazil')"
   ]
  },
  {
   "cell_type": "code",
   "execution_count": 19,
   "metadata": {},
   "outputs": [
    {
     "name": "stdout",
     "output_type": "stream",
     "text": [
      "Your question: Which election did Grover Cleveland win\n",
      "Closest question found: Grover Cleveland Which election did Grover Cleveland win?\n",
      "Similarity: 94.48%\n",
      "Answer: 1884 and 1892 presidential elections\n"
     ]
    }
   ],
   "source": [
    "ask_question('Which election did Grover Cleveland win')"
   ]
  }
 ],
 "metadata": {
  "kernelspec": {
   "display_name": "Python 3 (ipykernel)",
   "language": "python",
   "name": "python3"
  },
  "language_info": {
   "codemirror_mode": {
    "name": "ipython",
    "version": 3
   },
   "file_extension": ".py",
   "mimetype": "text/x-python",
   "name": "python",
   "nbconvert_exporter": "python",
   "pygments_lexer": "ipython3",
   "version": "3.11.4"
  }
 },
 "nbformat": 4,
 "nbformat_minor": 2
}
