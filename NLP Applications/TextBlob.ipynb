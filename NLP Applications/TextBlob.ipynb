{
 "cells": [
  {
   "cell_type": "code",
   "execution_count": 1,
   "id": "7fc8965f",
   "metadata": {},
   "outputs": [
    {
     "name": "stdout",
     "output_type": "stream",
     "text": [
      "Collecting textblob\n",
      "  Downloading textblob-0.17.1-py2.py3-none-any.whl (636 kB)\n",
      "     ---------------------------------------- 0.0/636.8 kB ? eta -:--:--\n",
      "     ------------ ------------------------- 204.8/636.8 kB 6.3 MB/s eta 0:00:01\n",
      "     ------------------------ ------------- 409.6/636.8 kB 4.2 MB/s eta 0:00:01\n",
      "     -------------------------------------  634.9/636.8 kB 5.0 MB/s eta 0:00:01\n",
      "     -------------------------------------- 636.8/636.8 kB 4.0 MB/s eta 0:00:00\n",
      "Collecting autocorrect\n",
      "  Downloading autocorrect-2.6.1.tar.gz (622 kB)\n",
      "     ---------------------------------------- 0.0/622.8 kB ? eta -:--:--\n",
      "     ---------------- --------------------- 276.5/622.8 kB 5.7 MB/s eta 0:00:01\n",
      "     ------------------------------- ------ 522.2/622.8 kB 6.6 MB/s eta 0:00:01\n",
      "     -------------------------------------  614.4/622.8 kB 6.4 MB/s eta 0:00:01\n",
      "     -------------------------------------  614.4/622.8 kB 6.4 MB/s eta 0:00:01\n",
      "     -------------------------------------- 622.8/622.8 kB 3.3 MB/s eta 0:00:00\n",
      "  Preparing metadata (setup.py): started\n",
      "  Preparing metadata (setup.py): finished with status 'done'\n",
      "Requirement already satisfied: nltk>=3.1 in c:\\users\\admin\\anaconda3\\lib\\site-packages (from textblob) (3.8.1)\n",
      "Requirement already satisfied: click in c:\\users\\admin\\anaconda3\\lib\\site-packages (from nltk>=3.1->textblob) (8.0.4)\n",
      "Requirement already satisfied: joblib in c:\\users\\admin\\anaconda3\\lib\\site-packages (from nltk>=3.1->textblob) (1.2.0)\n",
      "Requirement already satisfied: regex>=2021.8.3 in c:\\users\\admin\\anaconda3\\lib\\site-packages (from nltk>=3.1->textblob) (2022.7.9)\n",
      "Requirement already satisfied: tqdm in c:\\users\\admin\\anaconda3\\lib\\site-packages (from nltk>=3.1->textblob) (4.65.0)\n",
      "Requirement already satisfied: colorama in c:\\users\\admin\\anaconda3\\lib\\site-packages (from click->nltk>=3.1->textblob) (0.4.6)\n",
      "Building wheels for collected packages: autocorrect\n",
      "  Building wheel for autocorrect (setup.py): started\n",
      "  Building wheel for autocorrect (setup.py): finished with status 'done'\n",
      "  Created wheel for autocorrect: filename=autocorrect-2.6.1-py3-none-any.whl size=622374 sha256=45926c72128942d7f4082aa17c2f17604c73d9ab0b757b7ca33ca889fedf1c4c\n",
      "  Stored in directory: c:\\users\\admin\\appdata\\local\\pip\\cache\\wheels\\5e\\90\\99\\807a5ad861ce5d22c3c299a11df8cba9f31524f23ae6e645cb\n",
      "Successfully built autocorrect\n",
      "Installing collected packages: autocorrect, textblob\n",
      "Successfully installed autocorrect-2.6.1 textblob-0.17.1\n"
     ]
    }
   ],
   "source": [
    "!pip install textblob autocorrect"
   ]
  },
  {
   "cell_type": "code",
   "execution_count": 2,
   "id": "df480948",
   "metadata": {},
   "outputs": [],
   "source": [
    "from textblob import TextBlob"
   ]
  },
  {
   "cell_type": "code",
   "execution_count": 10,
   "id": "35af64c7",
   "metadata": {},
   "outputs": [
    {
     "data": {
      "text/plain": [
       "TextBlob(\"natural\")"
      ]
     },
     "execution_count": 10,
     "metadata": {},
     "output_type": "execute_result"
    }
   ],
   "source": [
    "TextBlob(\"neaural\").correct()"
   ]
  },
  {
   "cell_type": "code",
   "execution_count": 11,
   "id": "2071bae2",
   "metadata": {},
   "outputs": [],
   "source": [
    "from autocorrect import Speller"
   ]
  },
  {
   "cell_type": "code",
   "execution_count": 12,
   "id": "6e07be91",
   "metadata": {},
   "outputs": [],
   "source": [
    "spell = Speller()\n"
   ]
  },
  {
   "cell_type": "code",
   "execution_count": 13,
   "id": "63b4feec",
   "metadata": {},
   "outputs": [
    {
     "data": {
      "text/plain": [
       "'neural'"
      ]
     },
     "execution_count": 13,
     "metadata": {},
     "output_type": "execute_result"
    }
   ],
   "source": [
    "spell(\"neaural\")"
   ]
  },
  {
   "cell_type": "code",
   "execution_count": null,
   "id": "5cafd05b",
   "metadata": {},
   "outputs": [],
   "source": []
  }
 ],
 "metadata": {
  "kernelspec": {
   "display_name": "Python 3 (ipykernel)",
   "language": "python",
   "name": "python3"
  },
  "language_info": {
   "codemirror_mode": {
    "name": "ipython",
    "version": 3
   },
   "file_extension": ".py",
   "mimetype": "text/x-python",
   "name": "python",
   "nbconvert_exporter": "python",
   "pygments_lexer": "ipython3",
   "version": "3.11.4"
  }
 },
 "nbformat": 4,
 "nbformat_minor": 5
}
